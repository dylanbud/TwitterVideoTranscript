{
 "cells": [
  {
   "cell_type": "markdown",
   "metadata": {},
   "source": [
    "# Twitter Video Transcription\n",
    "\n",
    "This notebook will take in an input that is a Twitter tweet. <br>\n",
    "It will then use OpenAI's Whisper model to create a transcript of the video after downloading the video and analyzing it.\n",
    "\n",
    "### **Make sure you're using a GPU environment in Colab!** \n",
    "\n",
    "1. Runtime -> \n",
    "2. Change runtime type -> \n",
    "3. Under \"Hardware accelerator\" choose **\"GPU\"**\n",
    "\n",
    "\n",
    "You can then run all cells in the notebook (Ctrl+F9).<br>\n",
    "The whisper model defaults to \"small\" which is ~461MB.<br>\n",
    "You can change this value to \"tiny\", \"medium\", or \"large\" depending on your preference<br>\n"
   ]
  },
  {
   "cell_type": "code",
   "execution_count": null,
   "metadata": {},
   "outputs": [],
   "source": [
    "!pip install git+https://github.com/openai/whisper.git \n",
    "!pip install ffmpeg-python\n",
    "!pip install youtube-dl\n",
    "!pip install ipython-autotime"
   ]
  },
  {
   "cell_type": "code",
   "execution_count": null,
   "metadata": {},
   "outputs": [],
   "source": [
    "import whisper\n",
    "import ffmpeg\n",
    "import youtube_dl\n",
    "\n",
    "#load the model\n",
    "model = whisper.load_model(\"small\")"
   ]
  },
  {
   "cell_type": "markdown",
   "metadata": {},
   "source": [
    "# Choose the Twitter URL to input and run youtube-dl to download the video"
   ]
  },
  {
   "cell_type": "code",
   "execution_count": null,
   "metadata": {},
   "outputs": [],
   "source": [
    "import youtube_dl\n",
    "\n",
    "#query user for the youtube URL\n",
    "tweet = input('Enter a tweet or youtube URL: ')\n",
    "ydl = youtube_dl.YoutubeDL({'outtmpl': 'output.%(ext)s'})\n",
    "\n",
    "with ydl:\n",
    "    result = ydl.extract_info(tweet,download=False)\n",
    "\n",
    "if 'entries' in result:\n",
    "    # Can be a playlist or a list of videos\n",
    "    video = result['entries'][0]\n",
    "else:\n",
    "    # Just a video\n",
    "    video = result\n",
    "\n",
    "video_url = video['url']\n",
    "\n",
    "#download the audio from the video and call it output.mp3\n",
    "!youtube-dl -x --audio-format mp3 -o output.mp3 $video_url"
   ]
  },
  {
   "cell_type": "markdown",
   "metadata": {},
   "source": [
    "# Query the model using the output.mp3 generated above"
   ]
  },
  {
   "cell_type": "code",
   "execution_count": null,
   "metadata": {},
   "outputs": [],
   "source": [
    "result = model.transcribe(\"output.mp3\")\n",
    "print(result[\"text\"])"
   ]
  }
 ],
 "metadata": {
  "kernelspec": {
   "display_name": "Python 3.9.13 64-bit",
   "language": "python",
   "name": "python3"
  },
  "language_info": {
   "codemirror_mode": {
    "name": "ipython",
    "version": 3
   },
   "file_extension": ".py",
   "mimetype": "text/x-python",
   "name": "python",
   "nbconvert_exporter": "python",
   "pygments_lexer": "ipython3",
   "version": "3.9.13"
  },
  "orig_nbformat": 4,
  "vscode": {
   "interpreter": {
    "hash": "781d078e995af10b0501b4d48938ec93e70417f9c24d3c53880a33bf134c31fa"
   }
  }
 },
 "nbformat": 4,
 "nbformat_minor": 2
}
